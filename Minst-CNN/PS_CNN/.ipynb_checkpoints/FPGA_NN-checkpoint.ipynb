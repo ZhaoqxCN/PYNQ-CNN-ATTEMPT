{
 "cells": [
  {
   "cell_type": "code",
   "execution_count": 1,
   "metadata": {},
   "outputs": [
    {
     "name": "stderr",
     "output_type": "stream",
     "text": [
      "Using Theano backend.\n"
     ]
    },
    {
     "data": {
      "application/javascript": [
       "\n",
       "require(['notebook/js/codecell'], function(codecell) {\n",
       "  codecell.CodeCell.options_default.highlight_modes[\n",
       "      'magic_text/x-csrc'] = {'reg':[/^%%microblaze/]};\n",
       "  Jupyter.notebook.events.one('kernel_ready.Kernel', function(){\n",
       "      Jupyter.notebook.get_cells().map(function(cell){\n",
       "          if (cell.cell_type == 'code'){ cell.auto_highlight(); } }) ;\n",
       "  });\n",
       "});\n"
      ]
     },
     "metadata": {},
     "output_type": "display_data"
    }
   ],
   "source": [
    "import time\n",
    "\n",
    "import keras\n",
    "import numpy as np\n",
    "from keras import backend as K\n",
    "from keras.datasets import mnist\n",
    "from keras.models import Model, load_model\n",
    "\n",
    "import cv2\n",
    "import matplotlib.pyplot as plt\n",
    "import pynq.lib.dma\n",
    "from pynq import MMIO, PL, DefaultHierarchy, Overlay, Xlnk"
   ]
  },
  {
   "cell_type": "code",
   "execution_count": 2,
   "metadata": {},
   "outputs": [],
   "source": [
    "class Convolutional_Neural_Network(DefaultHierarchy):\n",
    "    def __init__(self, description):\n",
    "        super().__init__(description)\n",
    "\n",
    "    def loadweight(self, W, index, quant_scale):\n",
    "        KerDim = W.shape[2]\n",
    "        IFMCH = W.shape[1]\n",
    "        OFMCH = W.shape[0]\n",
    "        kernel_val = W.ravel() * quant_scale\n",
    "        kernel = np.append([index, 0, KerDim, IFMCH, 0, OFMCH, 0], kernel_val)\n",
    "        in_buffer = Xlnk().cma_array(shape=(kernel.shape[0]), dtype=np.int16)\n",
    "        out_buffer = Xlnk().cma_array(shape=(kernel.shape[0]), dtype=np.int16)\n",
    "        for i, v in enumerate(kernel):\n",
    "            in_buffer[i] = v\n",
    "        self.axi_dma_0.sendchannel.transfer(in_buffer)\n",
    "        self.axi_dma_0.recvchannel.transfer(out_buffer)\n",
    "        self.axi_dma_0.sendchannel.wait()\n",
    "        self.axi_dma_0.recvchannel.wait()\n",
    "\n",
    "    def execute(self, test_data, batch_size, input_ch, input_dim, output_ch, output_dim):\n",
    "        input_mat = test_data[0:batch_size]\n",
    "        input_val = np.append(\n",
    "            [0, batch_size, 0, input_ch, input_dim, output_ch, output_dim], input_mat.ravel())\n",
    "        in_buffer = Xlnk().cma_array(\n",
    "            shape=(input_val.shape[0]), dtype=np.int16)\n",
    "        out_buffer = Xlnk().cma_array(\n",
    "            shape=(7 + output_ch * batch_size * output_dim * output_dim), dtype=np.int16)\n",
    "        for i, v in enumerate(input_val):\n",
    "            in_buffer[i] = v\n",
    "        start_time = time.process_time()\n",
    "        self.axi_dma_0.sendchannel.transfer(in_buffer)\n",
    "        self.axi_dma_0.recvchannel.transfer(out_buffer)\n",
    "        self.axi_dma_0.sendchannel.wait()\n",
    "        self.axi_dma_0.recvchannel.wait()\n",
    "        end_time = time.process_time()\n",
    "        print(\"Elapsed Test Time: \", end_time-start_time)\n",
    "        output_mat = out_buffer[7:].reshape(batch_size, -1).astype(np.float32)\n",
    "        for i in range(batch_size):\n",
    "            output_mat[i] = output_mat[i]/sum(output_mat[i])\n",
    "        return output_mat\n",
    "\n",
    "    @staticmethod\n",
    "    def checkhierarchy(description):\n",
    "        if 'axi_dma_0' in description['ip']:\n",
    "            return True\n",
    "        return False"
   ]
  },
  {
   "cell_type": "code",
   "execution_count": 3,
   "metadata": {},
   "outputs": [
    {
     "name": "stdout",
     "output_type": "stream",
     "text": [
      "x_train shape: (60000, 28, 28, 1)\n",
      "60000 train samples\n",
      "10000 test samples\n"
     ]
    }
   ],
   "source": [
    "num_classes = 10\n",
    "batch_size = 127\n",
    "quant_scale = 116\n",
    "\n",
    "# input image dimensions\n",
    "img_rows, img_cols = 28, 28\n",
    "\n",
    "# the data, split between train and test sets\n",
    "(x_train, y_train), (x_test, y_test) = mnist.load_data()\n",
    "\n",
    "x_train = x_train.reshape(x_train.shape[0], img_rows, img_cols, 1)\n",
    "x_test = x_test.reshape(x_test.shape[0], img_rows, img_cols, 1)\n",
    "input_shape = (img_rows, img_cols, 1)\n",
    "\n",
    "x_train = x_train.astype('float32')\n",
    "x_test = x_test.astype('float32')\n",
    "x_train /= 4\n",
    "x_test /= 4\n",
    "# x_train = x_train.astype('int8')\n",
    "# x_test = x_test.astype('int8')\n",
    "# x_train = x_train.astype('int16')\n",
    "# x_test = x_test.astype('int16')\n",
    "print('x_train shape:', x_train.shape)\n",
    "print(x_train.shape[0], 'train samples')\n",
    "print(x_test.shape[0], 'test samples')\n",
    "\n",
    "# convert class vectors to binary class matrices\n",
    "y_train = keras.utils.to_categorical(y_train, num_classes)\n",
    "y_test = keras.utils.to_categorical(y_test, num_classes)"
   ]
  },
  {
   "cell_type": "code",
   "execution_count": 4,
   "metadata": {},
   "outputs": [],
   "source": [
    "model = load_model('mnist_cnn_model_int8.h5')"
   ]
  },
  {
   "cell_type": "code",
   "execution_count": 5,
   "metadata": {
    "scrolled": false
   },
   "outputs": [
    {
     "name": "stdout",
     "output_type": "stream",
     "text": [
      "_________________________________________________________________\n",
      "Layer (type)                 Output Shape              Param #   \n",
      "=================================================================\n",
      "conv2d_1 (Conv2D)            (None, 26, 26, 16)        144       \n",
      "_________________________________________________________________\n",
      "conv2d_2 (Conv2D)            (None, 24, 24, 32)        4608      \n",
      "_________________________________________________________________\n",
      "max_pooling2d_1 (MaxPooling2 (None, 6, 6, 32)          0         \n",
      "_________________________________________________________________\n",
      "dropout_1 (Dropout)          (None, 6, 6, 32)          0         \n",
      "_________________________________________________________________\n",
      "flatten_1 (Flatten)          (None, 1152)              0         \n",
      "_________________________________________________________________\n",
      "dense_1 (Dense)              (None, 128)               147456    \n",
      "_________________________________________________________________\n",
      "dropout_2 (Dropout)          (None, 128)               0         \n",
      "_________________________________________________________________\n",
      "dense_2 (Dense)              (None, 10)                1280      \n",
      "=================================================================\n",
      "Total params: 153,488\n",
      "Trainable params: 153,488\n",
      "Non-trainable params: 0\n",
      "_________________________________________________________________\n"
     ]
    }
   ],
   "source": [
    "model.summary()"
   ]
  },
  {
   "cell_type": "code",
   "execution_count": 6,
   "metadata": {},
   "outputs": [],
   "source": [
    "overlay = Overlay('nn.bit')"
   ]
  },
  {
   "cell_type": "code",
   "execution_count": 7,
   "metadata": {},
   "outputs": [],
   "source": [
    "weight = model.get_layer('conv2d_1').get_weights()\n",
    "weight = np.transpose(weight)\n",
    "overlay.memory.loadweight(weight, 1, quant_scale)\n",
    "weight = model.get_layer('conv2d_2').get_weights()\n",
    "weight = np.transpose(weight)\n",
    "overlay.memory.loadweight(weight, 2, quant_scale)\n",
    "weight = model.get_layer('dense_1').get_weights()\n",
    "weight = np.transpose(weight)\n",
    "overlay.memory.loadweight(weight, 3, quant_scale)\n",
    "weight = model.get_layer('dense_2').get_weights()\n",
    "weight = np.transpose(weight)\n",
    "overlay.memory.loadweight(weight, 4, quant_scale)"
   ]
  },
  {
   "cell_type": "code",
   "execution_count": 17,
   "metadata": {
    "scrolled": false
   },
   "outputs": [
    {
     "name": "stdout",
     "output_type": "stream",
     "text": [
      "Elapsed Test Time:  0.4323413830000078\n",
      "FPGA accuracy: 0.984251968503937\n",
      "CPU times: user 760 ms, sys: 10 ms, total: 770 ms\n",
      "Wall time: 770 ms\n"
     ]
    }
   ],
   "source": [
    "%%time\n",
    "count = 0\n",
    "result = overlay.memory.execute(x_test, batch_size, 1, 28, 10, 1)\n",
    "for i in range(batch_size):\n",
    "    if result[i].argmax() == y_test[i].argmax():\n",
    "        count = count + 1\n",
    "score = count/batch_size\n",
    "print('FPGA accuracy:', score)"
   ]
  },
  {
   "cell_type": "code",
   "execution_count": 18,
   "metadata": {},
   "outputs": [
    {
     "name": "stdout",
     "output_type": "stream",
     "text": [
      "Arm accuracy: 1.0\n",
      "CPU times: user 1.54 s, sys: 40 ms, total: 1.58 s\n",
      "Wall time: 1.57 s\n"
     ]
    }
   ],
   "source": [
    "%%time\n",
    "count = 0\n",
    "result = model.predict(x_test[0:batch_size])\n",
    "for i in range(batch_size):\n",
    "    if result[i].argmax() == y_test[i].argmax():\n",
    "        count = count + 1\n",
    "score = count/batch_size\n",
    "print('Arm accuracy:', score)"
   ]
  },
  {
   "cell_type": "code",
   "execution_count": 19,
   "metadata": {},
   "outputs": [
    {
     "name": "stdout",
     "output_type": "stream",
     "text": [
      "127/127 [==============================] - 2s 13ms/step\n",
      "Arm accuracy: 1.0\n",
      "CPU times: user 1.6 s, sys: 20 ms, total: 1.62 s\n",
      "Wall time: 1.62 s\n"
     ]
    }
   ],
   "source": [
    "%%time\n",
    "score = model.evaluate(x_test[0:batch_size], y_test[0:batch_size])\n",
    "print('Arm accuracy:', score[1].astype(np.float32))"
   ]
  },
  {
   "cell_type": "code",
   "execution_count": null,
   "metadata": {},
   "outputs": [],
   "source": []
  },
  {
   "cell_type": "code",
   "execution_count": null,
   "metadata": {},
   "outputs": [],
   "source": [
    "# 设置单层权值\n",
    "# x=[1,2,3,4,5,6,7,8,9]\n",
    "# x = np.transpose(x)\n",
    "# x=np.reshape(x,(1,3,3,1,1))\n",
    "# model.get_layer('conv2d_1').set_weights(x)"
   ]
  },
  {
   "cell_type": "code",
   "execution_count": null,
   "metadata": {},
   "outputs": [],
   "source": [
    "# 获取中间结果\n",
    "# intermediate_layer_model = Model(inputs=model.input,\n",
    "#                                  outputs=model.get_layer('conv2d_1').output)\n",
    "# pre = intermediate_layer_model.predict(x_test[0].reshape(1,28,28,1))"
   ]
  },
  {
   "cell_type": "code",
   "execution_count": null,
   "metadata": {},
   "outputs": [],
   "source": [
    "# 展示图片\n",
    "# result = np.reshape(x_test[0], (28,28))\n",
    "# plt.figure(figsize=(4, 4))\n",
    "# plt.imshow(result, 'gray')"
   ]
  }
 ],
 "metadata": {
  "kernelspec": {
   "display_name": "Python 3",
   "language": "python",
   "name": "python3"
  },
  "language_info": {
   "codemirror_mode": {
    "name": "ipython",
    "version": 3
   },
   "file_extension": ".py",
   "mimetype": "text/x-python",
   "name": "python",
   "nbconvert_exporter": "python",
   "pygments_lexer": "ipython3",
   "version": "3.6.0"
  }
 },
 "nbformat": 4,
 "nbformat_minor": 2
}
